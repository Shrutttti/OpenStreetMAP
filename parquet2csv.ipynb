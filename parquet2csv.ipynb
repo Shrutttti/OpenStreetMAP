{
  "nbformat": 4,
  "nbformat_minor": 0,
  "metadata": {
    "colab": {
      "provenance": []
    },
    "kernelspec": {
      "name": "python3",
      "display_name": "Python 3"
    },
    "language_info": {
      "name": "python"
    }
  },
  "cells": [
    {
      "cell_type": "code",
      "execution_count": null,
      "metadata": {
        "colab": {
          "base_uri": "https://localhost:8080/"
        },
        "id": "B1DAKGGnuW8d",
        "outputId": "63a05585-324c-4d46-f7c0-db6b26f03df9"
      },
      "outputs": [
        {
          "output_type": "stream",
          "name": "stdout",
          "text": [
            "Requirement already satisfied: pyspark in /usr/local/lib/python3.10/dist-packages (3.4.1)\n",
            "Requirement already satisfied: py4j==0.10.9.7 in /usr/local/lib/python3.10/dist-packages (from pyspark) (0.10.9.7)\n"
          ]
        }
      ],
      "source": [
        "pip install pyspark"
      ]
    },
    {
      "cell_type": "code",
      "source": [
        "\n",
        "from pyspark.sql import SparkSession\n",
        "\n",
        "spark = SparkSession.builder.getOrCreate()\n",
        "\n",
        "parquet_df = spark.read.parquet(\"/content/data-422.parquet\")\n",
        "parquet_df.write.csv(\"/content/drive/MyDrive/CSV/data-422.csv\", header=True)"
      ],
      "metadata": {
        "id": "FsA7-EAivMaS"
      },
      "execution_count": null,
      "outputs": []
    },
    {
      "cell_type": "code",
      "source": [
        "\n",
        "from pyspark.sql import SparkSession\n",
        "\n",
        "spark = SparkSession.builder.getOrCreate()\n",
        "\n",
        "parquet_df = spark.read.parquet(\"//content/drive/MyDrive/data-422.parquet\")\n",
        "parquet_df.write.csv(\"/content/drive/MyDrive/CSV/data-0.csv\", header=True)"
      ],
      "metadata": {
        "id": "VpJqAilwJjg7"
      },
      "execution_count": null,
      "outputs": []
    },
    {
      "cell_type": "code",
      "source": [
        "#for i in range(000,502):\n",
        "  pname= \"/content/drive/MyDrive/Parquet files/data-\" + str(i) + \".parquet\"\n",
        "  print(pname)\n",
        "  cname=\"/content/drive/MyDrive/CSV/data-\" +str(i) + \".csv\"\n",
        "  print(cname)\n",
        "  parquet_df = spark.read.parquet(pname)\n",
        "  parquet_df.write.csv(cname, header=True)\n",
        "\n"
      ],
      "metadata": {
        "id": "Ky9zBaeA7mxa"
      },
      "execution_count": null,
      "outputs": []
    },
    {
      "cell_type": "code",
      "source": [
        "#from google.colab import drive\n",
        "#drive.mount('/content/drive')"
      ],
      "metadata": {
        "id": "-D5Daa2cJYf7"
      },
      "execution_count": null,
      "outputs": []
    }
  ]
}