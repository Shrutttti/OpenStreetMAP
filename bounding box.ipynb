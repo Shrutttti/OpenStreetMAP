{
 "cells": [
  {
   "cell_type": "code",
   "execution_count": 2,
   "id": "90c7ffb8",
   "metadata": {},
   "outputs": [
    {
     "name": "stdout",
     "output_type": "stream",
     "text": [
      "[{'place_id': 182041856, 'licence': 'Data © OpenStreetMap contributors, ODbL 1.0. http://osm.org/copyright', 'osm_type': 'relation', 'osm_id': 71022, 'lat': '46.5421715', 'lon': '33.4079326', 'class': 'boundary', 'type': 'administrative', 'place_rank': 8, 'importance': 0.5602719648874058, 'addresstype': 'state', 'name': 'Херсонська область', 'display_name': 'Херсонська область, Україна', 'address': {'state': 'Херсонська область', 'ISO3166-2-lvl4': 'UA-65', 'country': 'Україна', 'country_code': 'ua'}, 'boundingbox': ['45.7565682', '47.6001940', '31.1590964', '35.4680391']}]\n"
     ]
    }
   ],
   "source": [
    "import requests\n",
    "\n",
    "url = \"https://nominatim.openstreetmap.org/search\"\n",
    "params = {\n",
    "    \"q\": \"Kherson Oblast\",\n",
    "    \"format\": \"json\",\n",
    "    \"addressdetails\": 1\n",
    "}\n",
    "\n",
    "response = requests.get(url, params=params)\n",
    "\n",
    "if response.status_code == 200:\n",
    "    data = response.json()\n",
    "    print(data)\n",
    "    \n",
    "else:\n",
    "    print(\"Error: Unable to fetch data from Nominatim API.\")\n"
   ]
  },
  {
   "cell_type": "code",
   "execution_count": 3,
   "id": "811e1e85",
   "metadata": {},
   "outputs": [
    {
     "name": "stdout",
     "output_type": "stream",
     "text": [
      "[{'place_id': 170656363, 'licence': 'Data © OpenStreetMap contributors, ODbL 1.0. http://osm.org/copyright', 'osm_type': 'relation', 'osm_id': 71248, 'lat': '50.178595', 'lon': '30.4924884', 'class': 'boundary', 'type': 'administrative', 'place_rank': 8, 'importance': 0.6146894978313734, 'addresstype': 'state', 'name': 'Київська область', 'display_name': 'Київська область, Україна', 'address': {'state': 'Київська область', 'ISO3166-2-lvl4': 'UA-32', 'country': 'Україна', 'country_code': 'ua'}, 'boundingbox': ['49.1787440', '51.5531668', '29.2675489', '32.1610264']}]\n"
     ]
    }
   ],
   "source": [
    "url = \"https://nominatim.openstreetmap.org/search\"\n",
    "params = {\n",
    "    \"q\": \"Kyiv Oblast\",\n",
    "    \"format\": \"json\",\n",
    "    \"addressdetails\": 1\n",
    "}\n",
    "\n",
    "response = requests.get(url, params=params)\n",
    "\n",
    "if response.status_code == 200:\n",
    "    data = response.json()\n",
    "    print(data)\n",
    "    \n",
    "else:\n",
    "    print(\"Error: Unable to fetch data from Nominatim API.\")\n"
   ]
  },
  {
   "cell_type": "code",
   "execution_count": 4,
   "id": "e25ff7cf",
   "metadata": {},
   "outputs": [
    {
     "name": "stdout",
     "output_type": "stream",
     "text": [
      "[{'place_id': 172199907, 'licence': 'Data © OpenStreetMap contributors, ODbL 1.0. http://osm.org/copyright', 'osm_type': 'relation', 'osm_id': 71254, 'lat': '49.8299582', 'lon': '36.3788957', 'class': 'boundary', 'type': 'administrative', 'place_rank': 8, 'importance': 0.5860007008443942, 'addresstype': 'state', 'name': 'Харківська область', 'display_name': 'Харківська область, Україна', 'address': {'state': 'Харківська область', 'ISO3166-2-lvl4': 'UA-63', 'country': 'Україна', 'country_code': 'ua'}, 'boundingbox': ['48.5311780', '50.4594753', '34.8563132', '38.0935290']}]\n"
     ]
    }
   ],
   "source": [
    "url = \"https://nominatim.openstreetmap.org/search\"\n",
    "params = {\n",
    "    \"q\": \"Kharkiv Oblast\",\n",
    "    \"format\": \"json\",\n",
    "    \"addressdetails\": 1\n",
    "}\n",
    "\n",
    "response = requests.get(url, params=params)\n",
    "\n",
    "if response.status_code == 200:\n",
    "    data = response.json()\n",
    "    print(data)\n",
    "    \n",
    "else:\n",
    "    print(\"Error: Unable to fetch data from Nominatim API.\")\n"
   ]
  },
  {
   "cell_type": "code",
   "execution_count": 5,
   "id": "e29dd94e",
   "metadata": {},
   "outputs": [
    {
     "name": "stdout",
     "output_type": "stream",
     "text": [
      "[{'place_id': 181875232, 'licence': 'Data © OpenStreetMap contributors, ODbL 1.0. http://osm.org/copyright', 'osm_type': 'relation', 'osm_id': 71973, 'lat': '47.9212914', 'lon': '37.7809825', 'class': 'boundary', 'type': 'administrative', 'place_rank': 8, 'importance': 0.608192683808089, 'addresstype': 'state', 'name': 'Донецька область', 'display_name': 'Донецька область, 83000-87999, Україна', 'address': {'state': 'Донецька область', 'ISO3166-2-lvl4': 'UA-14', 'postcode': '83000-87999', 'country': 'Україна', 'country_code': 'ua'}, 'boundingbox': ['46.6876770', '49.2339965', '36.5419522', '39.0914413']}]\n"
     ]
    }
   ],
   "source": [
    "\n",
    "url = \"https://nominatim.openstreetmap.org/search\"\n",
    "params = {\n",
    "    \"q\": \"Donetsk Oblast\",\n",
    "    \"format\": \"json\",\n",
    "    \"addressdetails\": 1\n",
    "}\n",
    "\n",
    "response = requests.get(url, params=params)\n",
    "\n",
    "if response.status_code == 200:\n",
    "    data = response.json()\n",
    "    print(data)\n",
    "    \n",
    "else:\n",
    "    print(\"Error: Unable to fetch data from Nominatim API.\")\n"
   ]
  },
  {
   "cell_type": "code",
   "execution_count": 6,
   "id": "6b670722",
   "metadata": {},
   "outputs": [
    {
     "name": "stdout",
     "output_type": "stream",
     "text": [
      "[{'place_id': 169789483, 'licence': 'Data © OpenStreetMap contributors, ODbL 1.0. http://osm.org/copyright', 'osm_type': 'relation', 'osm_id': 72489, 'lat': '48.2953664', 'lon': '23.4466092', 'class': 'boundary', 'type': 'administrative', 'place_rank': 8, 'importance': 0.5926657043465442, 'addresstype': 'state', 'name': 'Закарпатська область', 'display_name': 'Закарпатська область, Україна', 'address': {'state': 'Закарпатська область', 'ISO3166-2-lvl4': 'UA-21', 'country': 'Україна', 'country_code': 'ua'}, 'boundingbox': ['47.8968940', '49.0973238', '22.1370590', '24.6274681']}]\n"
     ]
    }
   ],
   "source": [
    "url = \"https://nominatim.openstreetmap.org/search\"\n",
    "params = {\n",
    "    \"q\": \"Zakarpattia Oblast\",\n",
    "    \"format\": \"json\",\n",
    "    \"addressdetails\": 1\n",
    "}\n",
    "\n",
    "response = requests.get(url, params=params)\n",
    "\n",
    "if response.status_code == 200:\n",
    "    data = response.json()\n",
    "    print(data)\n",
    "    \n",
    "else:\n",
    "    print(\"Error: Unable to fetch data from Nominatim API.\")"
   ]
  },
  {
   "cell_type": "code",
   "execution_count": null,
   "id": "b81354dd",
   "metadata": {},
   "outputs": [],
   "source": []
  }
 ],
 "metadata": {
  "kernelspec": {
   "display_name": "Python 3 (ipykernel)",
   "language": "python",
   "name": "python3"
  },
  "language_info": {
   "codemirror_mode": {
    "name": "ipython",
    "version": 3
   },
   "file_extension": ".py",
   "mimetype": "text/x-python",
   "name": "python",
   "nbconvert_exporter": "python",
   "pygments_lexer": "ipython3",
   "version": "3.10.9"
  }
 },
 "nbformat": 4,
 "nbformat_minor": 5
}
